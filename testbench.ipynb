{
 "cells": [
  {
   "cell_type": "code",
   "execution_count": 3,
   "metadata": {},
   "outputs": [
    {
     "data": {
      "text/plain": [
       "-1"
      ]
     },
     "execution_count": 3,
     "metadata": {},
     "output_type": "execute_result"
    }
   ],
   "source": [
    "import cv2 as cv\n",
    "import numpy as np\n",
    "\n",
    "image = cv.imread('t1.jpg')\n",
    "\n",
    "cv.imshow('Image', image)\n",
    "original = image.copy()\n",
    "gray = cv.cvtColor(image, cv.COLOR_BGR2GRAY)\n",
    "# blur = cv.GaussianBlur(gray, (9, 9), 0)\n",
    "thresh = cv.threshold(gray, 0, 255, cv.THRESH_BINARY_INV + cv.THRESH_OTSU)[1]\n",
    "\n",
    "\n",
    "kernel = cv.getStructuringElement(cv, (5, 5))\n",
    "close = cv.morphologyEx(thresh, cv.MORPH_CLOSE, kernel, iterations=2)\n",
    "\n",
    "\n",
    "cnts = cv.findContours(close, cv.RETR_EXTERNAL, cv.CHAIN_APPROX_SIMPLE)\n",
    "cnts = cnts[0] if len(cnts) == 2 else cnts[1]\n",
    "\n",
    "for c in cnts:\n",
    "    peri = cv.arcLength(c, True)\n",
    "    approx = cv.approxPolyDP(c, 0.04 * peri, True)\n",
    "\n",
    "    x, y, w, h = cv.boundingRect(approx)\n",
    "    area = cv.contourArea(c)\n",
    "    ar = w / float(h)\n",
    "    if len(approx) == 4 and area > 1000 and (ar > .85 and ar < 1.3):\n",
    "        cv.rectangle(image, (x, y), (x + w, y + h), (36, 25, 12), 3)\n",
    "        ROI = original[y:y+h, x:x+w]\n",
    "        cv.imwrite('ROI.png', ROI)\n",
    "\n",
    "\n",
    "cv.imshow('ROI', ROI)\n",
    "\n",
    "cv.waitKey(0)\n"
   ]
  }
 ],
 "metadata": {
  "kernelspec": {
   "display_name": "Python 3",
   "language": "python",
   "name": "python3"
  },
  "language_info": {
   "codemirror_mode": {
    "name": "ipython",
    "version": 3
   },
   "file_extension": ".py",
   "mimetype": "text/x-python",
   "name": "python",
   "nbconvert_exporter": "python",
   "pygments_lexer": "ipython3",
   "version": "3.9.10"
  },
  "orig_nbformat": 4,
  "vscode": {
   "interpreter": {
    "hash": "ad72813a6b2a633aba0ed388d385046f84176d4903970c0344972b4e0ceb41bf"
   }
  }
 },
 "nbformat": 4,
 "nbformat_minor": 2
}
